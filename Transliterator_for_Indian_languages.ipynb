{
  "nbformat": 4,
  "nbformat_minor": 0,
  "metadata": {
    "colab": {
      "name": "Transliterator for Indian languages.ipynb",
      "provenance": [],
      "collapsed_sections": []
    },
    "kernelspec": {
      "name": "python3",
      "display_name": "Python 3"
    },
    "language_info": {
      "name": "python"
    }
  },
  "cells": [
    {
      "cell_type": "code",
      "metadata": {
        "colab": {
          "base_uri": "https://localhost:8080/"
        },
        "id": "lN5oApSD-ibm",
        "outputId": "77151d18-e633-4749-c656-9c9c6dee3b29"
      },
      "source": [
        "!pip install indic-nlp-library"
      ],
      "execution_count": 1,
      "outputs": [
        {
          "output_type": "stream",
          "text": [
            "Collecting indic-nlp-library\n",
            "\u001b[?25l  Downloading https://files.pythonhosted.org/packages/84/d4/495bb43b88a2a6d04b09c29fc5115f24872af74cd8317fe84026abd4ddb1/indic_nlp_library-0.81-py3-none-any.whl (40kB)\n",
            "\u001b[K     |████████████████████████████████| 40kB 5.3MB/s \n",
            "\u001b[?25hCollecting sphinx-rtd-theme\n",
            "\u001b[?25l  Downloading https://files.pythonhosted.org/packages/ac/24/2475e8f83519b54b2148d4a56eb1111f9cec630d088c3ffc214492c12107/sphinx_rtd_theme-0.5.2-py2.py3-none-any.whl (9.1MB)\n",
            "\u001b[K     |████████████████████████████████| 9.2MB 34.8MB/s \n",
            "\u001b[?25hCollecting morfessor\n",
            "  Downloading https://files.pythonhosted.org/packages/39/e6/7afea30be2ee4d29ce9de0fa53acbb033163615f849515c0b1956ad074ee/Morfessor-2.0.6-py3-none-any.whl\n",
            "Collecting sphinx-argparse\n",
            "  Downloading https://files.pythonhosted.org/packages/06/2b/dfad6a1831c3aeeae25d8d3d417224684befbf45e10c7f2141631616a6ed/sphinx-argparse-0.2.5.tar.gz\n",
            "Requirement already satisfied: numpy in /usr/local/lib/python3.7/dist-packages (from indic-nlp-library) (1.19.5)\n",
            "Requirement already satisfied: pandas in /usr/local/lib/python3.7/dist-packages (from indic-nlp-library) (1.1.5)\n",
            "Collecting docutils<0.17\n",
            "\u001b[?25l  Downloading https://files.pythonhosted.org/packages/81/44/8a15e45ffa96e6cf82956dd8d7af9e666357e16b0d93b253903475ee947f/docutils-0.16-py2.py3-none-any.whl (548kB)\n",
            "\u001b[K     |████████████████████████████████| 552kB 42.1MB/s \n",
            "\u001b[?25hRequirement already satisfied: sphinx in /usr/local/lib/python3.7/dist-packages (from sphinx-rtd-theme->indic-nlp-library) (1.8.5)\n",
            "Requirement already satisfied: python-dateutil>=2.7.3 in /usr/local/lib/python3.7/dist-packages (from pandas->indic-nlp-library) (2.8.1)\n",
            "Requirement already satisfied: pytz>=2017.2 in /usr/local/lib/python3.7/dist-packages (from pandas->indic-nlp-library) (2018.9)\n",
            "Requirement already satisfied: babel!=2.0,>=1.3 in /usr/local/lib/python3.7/dist-packages (from sphinx->sphinx-rtd-theme->indic-nlp-library) (2.9.1)\n",
            "Requirement already satisfied: requests>=2.0.0 in /usr/local/lib/python3.7/dist-packages (from sphinx->sphinx-rtd-theme->indic-nlp-library) (2.23.0)\n",
            "Requirement already satisfied: setuptools in /usr/local/lib/python3.7/dist-packages (from sphinx->sphinx-rtd-theme->indic-nlp-library) (57.0.0)\n",
            "Requirement already satisfied: imagesize in /usr/local/lib/python3.7/dist-packages (from sphinx->sphinx-rtd-theme->indic-nlp-library) (1.2.0)\n",
            "Requirement already satisfied: snowballstemmer>=1.1 in /usr/local/lib/python3.7/dist-packages (from sphinx->sphinx-rtd-theme->indic-nlp-library) (2.1.0)\n",
            "Requirement already satisfied: packaging in /usr/local/lib/python3.7/dist-packages (from sphinx->sphinx-rtd-theme->indic-nlp-library) (20.9)\n",
            "Requirement already satisfied: sphinxcontrib-websupport in /usr/local/lib/python3.7/dist-packages (from sphinx->sphinx-rtd-theme->indic-nlp-library) (1.2.4)\n",
            "Requirement already satisfied: Pygments>=2.0 in /usr/local/lib/python3.7/dist-packages (from sphinx->sphinx-rtd-theme->indic-nlp-library) (2.6.1)\n",
            "Requirement already satisfied: Jinja2>=2.3 in /usr/local/lib/python3.7/dist-packages (from sphinx->sphinx-rtd-theme->indic-nlp-library) (2.11.3)\n",
            "Requirement already satisfied: six>=1.5 in /usr/local/lib/python3.7/dist-packages (from sphinx->sphinx-rtd-theme->indic-nlp-library) (1.15.0)\n",
            "Requirement already satisfied: alabaster<0.8,>=0.7 in /usr/local/lib/python3.7/dist-packages (from sphinx->sphinx-rtd-theme->indic-nlp-library) (0.7.12)\n",
            "Requirement already satisfied: idna<3,>=2.5 in /usr/local/lib/python3.7/dist-packages (from requests>=2.0.0->sphinx->sphinx-rtd-theme->indic-nlp-library) (2.10)\n",
            "Requirement already satisfied: certifi>=2017.4.17 in /usr/local/lib/python3.7/dist-packages (from requests>=2.0.0->sphinx->sphinx-rtd-theme->indic-nlp-library) (2021.5.30)\n",
            "Requirement already satisfied: chardet<4,>=3.0.2 in /usr/local/lib/python3.7/dist-packages (from requests>=2.0.0->sphinx->sphinx-rtd-theme->indic-nlp-library) (3.0.4)\n",
            "Requirement already satisfied: urllib3!=1.25.0,!=1.25.1,<1.26,>=1.21.1 in /usr/local/lib/python3.7/dist-packages (from requests>=2.0.0->sphinx->sphinx-rtd-theme->indic-nlp-library) (1.24.3)\n",
            "Requirement already satisfied: pyparsing>=2.0.2 in /usr/local/lib/python3.7/dist-packages (from packaging->sphinx->sphinx-rtd-theme->indic-nlp-library) (2.4.7)\n",
            "Requirement already satisfied: sphinxcontrib-serializinghtml in /usr/local/lib/python3.7/dist-packages (from sphinxcontrib-websupport->sphinx->sphinx-rtd-theme->indic-nlp-library) (1.1.5)\n",
            "Requirement already satisfied: MarkupSafe>=0.23 in /usr/local/lib/python3.7/dist-packages (from Jinja2>=2.3->sphinx->sphinx-rtd-theme->indic-nlp-library) (2.0.1)\n",
            "Building wheels for collected packages: sphinx-argparse\n",
            "  Building wheel for sphinx-argparse (setup.py) ... \u001b[?25l\u001b[?25hdone\n",
            "  Created wheel for sphinx-argparse: filename=sphinx_argparse-0.2.5-cp37-none-any.whl size=11552 sha256=cc5fe01198b599219f20aa31b005364bec9a27e2d2adb3cf180ec1ae355a10e2\n",
            "  Stored in directory: /root/.cache/pip/wheels/2a/18/1b/4990a1859da4edc77ab312bc2986c08d2733fb5713d06e44f5\n",
            "Successfully built sphinx-argparse\n",
            "\u001b[31mERROR: datascience 0.10.6 has requirement folium==0.2.1, but you'll have folium 0.8.3 which is incompatible.\u001b[0m\n",
            "Installing collected packages: docutils, sphinx-rtd-theme, morfessor, sphinx-argparse, indic-nlp-library\n",
            "  Found existing installation: docutils 0.17.1\n",
            "    Uninstalling docutils-0.17.1:\n",
            "      Successfully uninstalled docutils-0.17.1\n",
            "Successfully installed docutils-0.16 indic-nlp-library-0.81 morfessor-2.0.6 sphinx-argparse-0.2.5 sphinx-rtd-theme-0.5.2\n"
          ],
          "name": "stdout"
        }
      ]
    },
    {
      "cell_type": "code",
      "metadata": {
        "colab": {
          "base_uri": "https://localhost:8080/"
        },
        "id": "9D-jHMql-xJo",
        "outputId": "ef408790-f257-42f9-c117-89d726046928"
      },
      "source": [
        "!git clone https://github.com/anoopkunchukuttan/indic_nlp_resources.git"
      ],
      "execution_count": 2,
      "outputs": [
        {
          "output_type": "stream",
          "text": [
            "Cloning into 'indic_nlp_resources'...\n",
            "remote: Enumerating objects: 133, done.\u001b[K\n",
            "remote: Counting objects: 100% (7/7), done.\u001b[K\n",
            "remote: Compressing objects: 100% (7/7), done.\u001b[K\n",
            "remote: Total 133 (delta 0), reused 2 (delta 0), pack-reused 126\u001b[K\n",
            "Receiving objects: 100% (133/133), 149.77 MiB | 34.68 MiB/s, done.\n",
            "Resolving deltas: 100% (51/51), done.\n"
          ],
          "name": "stdout"
        }
      ]
    },
    {
      "cell_type": "code",
      "metadata": {
        "colab": {
          "base_uri": "https://localhost:8080/"
        },
        "id": "Xe7NrrOA-z-Q",
        "outputId": "a18e216c-0ffd-4a9f-ce9a-a9f1777089b3"
      },
      "source": [
        "!git clone https://github.com/anoopkunchukuttan/indic_nlp_library.git"
      ],
      "execution_count": 3,
      "outputs": [
        {
          "output_type": "stream",
          "text": [
            "Cloning into 'indic_nlp_library'...\n",
            "remote: Enumerating objects: 1325, done.\u001b[K\n",
            "remote: Counting objects:   0% (1/147)\u001b[K\rremote: Counting objects:   1% (2/147)\u001b[K\rremote: Counting objects:   2% (3/147)\u001b[K\rremote: Counting objects:   3% (5/147)\u001b[K\rremote: Counting objects:   4% (6/147)\u001b[K\rremote: Counting objects:   5% (8/147)\u001b[K\rremote: Counting objects:   6% (9/147)\u001b[K\rremote: Counting objects:   7% (11/147)\u001b[K\rremote: Counting objects:   8% (12/147)\u001b[K\rremote: Counting objects:   9% (14/147)\u001b[K\rremote: Counting objects:  10% (15/147)\u001b[K\rremote: Counting objects:  11% (17/147)\u001b[K\rremote: Counting objects:  12% (18/147)\u001b[K\rremote: Counting objects:  13% (20/147)\u001b[K\rremote: Counting objects:  14% (21/147)\u001b[K\rremote: Counting objects:  15% (23/147)\u001b[K\rremote: Counting objects:  16% (24/147)\u001b[K\rremote: Counting objects:  17% (25/147)\u001b[K\rremote: Counting objects:  18% (27/147)\u001b[K\rremote: Counting objects:  19% (28/147)\u001b[K\rremote: Counting objects:  20% (30/147)\u001b[K\rremote: Counting objects:  21% (31/147)\u001b[K\rremote: Counting objects:  22% (33/147)\u001b[K\rremote: Counting objects:  23% (34/147)\u001b[K\rremote: Counting objects:  24% (36/147)\u001b[K\rremote: Counting objects:  25% (37/147)\u001b[K\rremote: Counting objects:  26% (39/147)\u001b[K\rremote: Counting objects:  27% (40/147)\u001b[K\rremote: Counting objects:  28% (42/147)\u001b[K\rremote: Counting objects:  29% (43/147)\u001b[K\rremote: Counting objects:  30% (45/147)\u001b[K\rremote: Counting objects:  31% (46/147)\u001b[K\rremote: Counting objects:  32% (48/147)\u001b[K\rremote: Counting objects:  33% (49/147)\u001b[K\rremote: Counting objects:  34% (50/147)\u001b[K\rremote: Counting objects:  35% (52/147)\u001b[K\rremote: Counting objects:  36% (53/147)\u001b[K\rremote: Counting objects:  37% (55/147)\u001b[K\rremote: Counting objects:  38% (56/147)\u001b[K\rremote: Counting objects:  39% (58/147)\u001b[K\rremote: Counting objects:  40% (59/147)\u001b[K\rremote: Counting objects:  41% (61/147)\u001b[K\rremote: Counting objects:  42% (62/147)\u001b[K\rremote: Counting objects:  43% (64/147)\u001b[K\rremote: Counting objects:  44% (65/147)\u001b[K\rremote: Counting objects:  45% (67/147)\u001b[K\rremote: Counting objects:  46% (68/147)\u001b[K\rremote: Counting objects:  47% (70/147)\u001b[K\rremote: Counting objects:  48% (71/147)\u001b[K\rremote: Counting objects:  49% (73/147)\u001b[K\rremote: Counting objects:  50% (74/147)\u001b[K\rremote: Counting objects:  51% (75/147)\u001b[K\rremote: Counting objects:  52% (77/147)\u001b[K\rremote: Counting objects:  53% (78/147)\u001b[K\rremote: Counting objects:  54% (80/147)\u001b[K\rremote: Counting objects:  55% (81/147)\u001b[K\rremote: Counting objects:  56% (83/147)\u001b[K\rremote: Counting objects:  57% (84/147)\u001b[K\rremote: Counting objects:  58% (86/147)\u001b[K\rremote: Counting objects:  59% (87/147)\u001b[K\rremote: Counting objects:  60% (89/147)\u001b[K\rremote: Counting objects:  61% (90/147)\u001b[K\rremote: Counting objects:  62% (92/147)\u001b[K\rremote: Counting objects:  63% (93/147)\u001b[K\rremote: Counting objects:  64% (95/147)\u001b[K\rremote: Counting objects:  65% (96/147)\u001b[K\rremote: Counting objects:  66% (98/147)\u001b[K\rremote: Counting objects:  67% (99/147)\u001b[K\rremote: Counting objects:  68% (100/147)\u001b[K\rremote: Counting objects:  69% (102/147)\u001b[K\rremote: Counting objects:  70% (103/147)\u001b[K\rremote: Counting objects:  71% (105/147)\u001b[K\rremote: Counting objects:  72% (106/147)\u001b[K\rremote: Counting objects:  73% (108/147)\u001b[K\rremote: Counting objects:  74% (109/147)\u001b[K\rremote: Counting objects:  75% (111/147)\u001b[K\rremote: Counting objects:  76% (112/147)\u001b[K\rremote: Counting objects:  77% (114/147)\u001b[K\rremote: Counting objects:  78% (115/147)\u001b[K\rremote: Counting objects:  79% (117/147)\u001b[K\rremote: Counting objects:  80% (118/147)\u001b[K\rremote: Counting objects:  81% (120/147)\u001b[K\rremote: Counting objects:  82% (121/147)\u001b[K\rremote: Counting objects:  83% (123/147)\u001b[K\rremote: Counting objects:  84% (124/147)\u001b[K\rremote: Counting objects:  85% (125/147)\u001b[K\rremote: Counting objects:  86% (127/147)\u001b[K\rremote: Counting objects:  87% (128/147)\u001b[K\rremote: Counting objects:  88% (130/147)\u001b[K\rremote: Counting objects:  89% (131/147)\u001b[K\rremote: Counting objects:  90% (133/147)\u001b[K\rremote: Counting objects:  91% (134/147)\u001b[K\rremote: Counting objects:  92% (136/147)\u001b[K\rremote: Counting objects:  93% (137/147)\u001b[K\rremote: Counting objects:  94% (139/147)\u001b[K\rremote: Counting objects:  95% (140/147)\u001b[K\rremote: Counting objects:  96% (142/147)\u001b[K\rremote: Counting objects:  97% (143/147)\u001b[K\rremote: Counting objects:  98% (145/147)\u001b[K\rremote: Counting objects:  99% (146/147)\u001b[K\rremote: Counting objects: 100% (147/147)\u001b[K\rremote: Counting objects: 100% (147/147), done.\u001b[K\n",
            "remote: Compressing objects: 100% (103/103), done.\u001b[K\n",
            "remote: Total 1325 (delta 84), reused 89 (delta 41), pack-reused 1178\u001b[K\n",
            "Receiving objects: 100% (1325/1325), 9.57 MiB | 13.92 MiB/s, done.\n",
            "Resolving deltas: 100% (688/688), done.\n"
          ],
          "name": "stdout"
        }
      ]
    },
    {
      "cell_type": "code",
      "metadata": {
        "colab": {
          "base_uri": "https://localhost:8080/"
        },
        "id": "QJiLASm1FRI3",
        "outputId": "422bf975-8d3c-43c8-b913-8e16b5ea8df4"
      },
      "source": [
        "!pip install langdetect"
      ],
      "execution_count": 11,
      "outputs": [
        {
          "output_type": "stream",
          "text": [
            "Collecting langdetect\n",
            "\u001b[?25l  Downloading https://files.pythonhosted.org/packages/0e/72/a3add0e4eec4eb9e2569554f7c70f4a3c27712f40e3284d483e88094cc0e/langdetect-1.0.9.tar.gz (981kB)\n",
            "\r\u001b[K     |▍                               | 10kB 17.0MB/s eta 0:00:01\r\u001b[K     |▊                               | 20kB 22.6MB/s eta 0:00:01\r\u001b[K     |█                               | 30kB 25.3MB/s eta 0:00:01\r\u001b[K     |█▍                              | 40kB 27.2MB/s eta 0:00:01\r\u001b[K     |█▊                              | 51kB 30.2MB/s eta 0:00:01\r\u001b[K     |██                              | 61kB 27.5MB/s eta 0:00:01\r\u001b[K     |██▍                             | 71kB 28.6MB/s eta 0:00:01\r\u001b[K     |██▊                             | 81kB 27.7MB/s eta 0:00:01\r\u001b[K     |███                             | 92kB 26.3MB/s eta 0:00:01\r\u001b[K     |███▍                            | 102kB 26.8MB/s eta 0:00:01\r\u001b[K     |███▊                            | 112kB 26.8MB/s eta 0:00:01\r\u001b[K     |████                            | 122kB 26.8MB/s eta 0:00:01\r\u001b[K     |████▍                           | 133kB 26.8MB/s eta 0:00:01\r\u001b[K     |████▊                           | 143kB 26.8MB/s eta 0:00:01\r\u001b[K     |█████                           | 153kB 26.8MB/s eta 0:00:01\r\u001b[K     |█████▍                          | 163kB 26.8MB/s eta 0:00:01\r\u001b[K     |█████▊                          | 174kB 26.8MB/s eta 0:00:01\r\u001b[K     |██████                          | 184kB 26.8MB/s eta 0:00:01\r\u001b[K     |██████▍                         | 194kB 26.8MB/s eta 0:00:01\r\u001b[K     |██████▊                         | 204kB 26.8MB/s eta 0:00:01\r\u001b[K     |███████                         | 215kB 26.8MB/s eta 0:00:01\r\u001b[K     |███████▍                        | 225kB 26.8MB/s eta 0:00:01\r\u001b[K     |███████▊                        | 235kB 26.8MB/s eta 0:00:01\r\u001b[K     |████████                        | 245kB 26.8MB/s eta 0:00:01\r\u001b[K     |████████▍                       | 256kB 26.8MB/s eta 0:00:01\r\u001b[K     |████████▊                       | 266kB 26.8MB/s eta 0:00:01\r\u001b[K     |█████████                       | 276kB 26.8MB/s eta 0:00:01\r\u001b[K     |█████████▍                      | 286kB 26.8MB/s eta 0:00:01\r\u001b[K     |█████████▊                      | 296kB 26.8MB/s eta 0:00:01\r\u001b[K     |██████████                      | 307kB 26.8MB/s eta 0:00:01\r\u001b[K     |██████████▍                     | 317kB 26.8MB/s eta 0:00:01\r\u001b[K     |██████████▊                     | 327kB 26.8MB/s eta 0:00:01\r\u001b[K     |███████████                     | 337kB 26.8MB/s eta 0:00:01\r\u001b[K     |███████████▍                    | 348kB 26.8MB/s eta 0:00:01\r\u001b[K     |███████████▊                    | 358kB 26.8MB/s eta 0:00:01\r\u001b[K     |████████████                    | 368kB 26.8MB/s eta 0:00:01\r\u001b[K     |████████████▍                   | 378kB 26.8MB/s eta 0:00:01\r\u001b[K     |████████████▊                   | 389kB 26.8MB/s eta 0:00:01\r\u001b[K     |█████████████                   | 399kB 26.8MB/s eta 0:00:01\r\u001b[K     |█████████████▍                  | 409kB 26.8MB/s eta 0:00:01\r\u001b[K     |█████████████▊                  | 419kB 26.8MB/s eta 0:00:01\r\u001b[K     |██████████████                  | 430kB 26.8MB/s eta 0:00:01\r\u001b[K     |██████████████▍                 | 440kB 26.8MB/s eta 0:00:01\r\u001b[K     |██████████████▊                 | 450kB 26.8MB/s eta 0:00:01\r\u001b[K     |███████████████                 | 460kB 26.8MB/s eta 0:00:01\r\u001b[K     |███████████████▍                | 471kB 26.8MB/s eta 0:00:01\r\u001b[K     |███████████████▊                | 481kB 26.8MB/s eta 0:00:01\r\u001b[K     |████████████████                | 491kB 26.8MB/s eta 0:00:01\r\u001b[K     |████████████████▍               | 501kB 26.8MB/s eta 0:00:01\r\u001b[K     |████████████████▊               | 512kB 26.8MB/s eta 0:00:01\r\u001b[K     |█████████████████               | 522kB 26.8MB/s eta 0:00:01\r\u001b[K     |█████████████████▍              | 532kB 26.8MB/s eta 0:00:01\r\u001b[K     |█████████████████▊              | 542kB 26.8MB/s eta 0:00:01\r\u001b[K     |██████████████████              | 552kB 26.8MB/s eta 0:00:01\r\u001b[K     |██████████████████▍             | 563kB 26.8MB/s eta 0:00:01\r\u001b[K     |██████████████████▊             | 573kB 26.8MB/s eta 0:00:01\r\u001b[K     |███████████████████             | 583kB 26.8MB/s eta 0:00:01\r\u001b[K     |███████████████████▍            | 593kB 26.8MB/s eta 0:00:01\r\u001b[K     |███████████████████▊            | 604kB 26.8MB/s eta 0:00:01\r\u001b[K     |████████████████████            | 614kB 26.8MB/s eta 0:00:01\r\u001b[K     |████████████████████▍           | 624kB 26.8MB/s eta 0:00:01\r\u001b[K     |████████████████████▊           | 634kB 26.8MB/s eta 0:00:01\r\u001b[K     |█████████████████████           | 645kB 26.8MB/s eta 0:00:01\r\u001b[K     |█████████████████████▍          | 655kB 26.8MB/s eta 0:00:01\r\u001b[K     |█████████████████████▊          | 665kB 26.8MB/s eta 0:00:01\r\u001b[K     |██████████████████████          | 675kB 26.8MB/s eta 0:00:01\r\u001b[K     |██████████████████████▍         | 686kB 26.8MB/s eta 0:00:01\r\u001b[K     |██████████████████████▊         | 696kB 26.8MB/s eta 0:00:01\r\u001b[K     |███████████████████████         | 706kB 26.8MB/s eta 0:00:01\r\u001b[K     |███████████████████████▍        | 716kB 26.8MB/s eta 0:00:01\r\u001b[K     |███████████████████████▊        | 727kB 26.8MB/s eta 0:00:01\r\u001b[K     |████████████████████████        | 737kB 26.8MB/s eta 0:00:01\r\u001b[K     |████████████████████████▍       | 747kB 26.8MB/s eta 0:00:01\r\u001b[K     |████████████████████████▊       | 757kB 26.8MB/s eta 0:00:01\r\u001b[K     |█████████████████████████       | 768kB 26.8MB/s eta 0:00:01\r\u001b[K     |█████████████████████████▍      | 778kB 26.8MB/s eta 0:00:01\r\u001b[K     |█████████████████████████▊      | 788kB 26.8MB/s eta 0:00:01\r\u001b[K     |██████████████████████████      | 798kB 26.8MB/s eta 0:00:01\r\u001b[K     |██████████████████████████▍     | 808kB 26.8MB/s eta 0:00:01\r\u001b[K     |██████████████████████████▊     | 819kB 26.8MB/s eta 0:00:01\r\u001b[K     |███████████████████████████     | 829kB 26.8MB/s eta 0:00:01\r\u001b[K     |███████████████████████████▍    | 839kB 26.8MB/s eta 0:00:01\r\u001b[K     |███████████████████████████▊    | 849kB 26.8MB/s eta 0:00:01\r\u001b[K     |████████████████████████████    | 860kB 26.8MB/s eta 0:00:01\r\u001b[K     |████████████████████████████▍   | 870kB 26.8MB/s eta 0:00:01\r\u001b[K     |████████████████████████████▊   | 880kB 26.8MB/s eta 0:00:01\r\u001b[K     |█████████████████████████████   | 890kB 26.8MB/s eta 0:00:01\r\u001b[K     |█████████████████████████████▍  | 901kB 26.8MB/s eta 0:00:01\r\u001b[K     |█████████████████████████████▊  | 911kB 26.8MB/s eta 0:00:01\r\u001b[K     |██████████████████████████████  | 921kB 26.8MB/s eta 0:00:01\r\u001b[K     |██████████████████████████████▍ | 931kB 26.8MB/s eta 0:00:01\r\u001b[K     |██████████████████████████████▊ | 942kB 26.8MB/s eta 0:00:01\r\u001b[K     |███████████████████████████████ | 952kB 26.8MB/s eta 0:00:01\r\u001b[K     |███████████████████████████████▍| 962kB 26.8MB/s eta 0:00:01\r\u001b[K     |███████████████████████████████▊| 972kB 26.8MB/s eta 0:00:01\r\u001b[K     |████████████████████████████████| 983kB 26.8MB/s \n",
            "\u001b[?25hRequirement already satisfied: six in /usr/local/lib/python3.7/dist-packages (from langdetect) (1.15.0)\n",
            "Building wheels for collected packages: langdetect\n",
            "  Building wheel for langdetect (setup.py) ... \u001b[?25l\u001b[?25hdone\n",
            "  Created wheel for langdetect: filename=langdetect-1.0.9-cp37-none-any.whl size=993242 sha256=a0147db74bf74cd0805d3f33e9fc70f9347c96d44404b9cfcbf7ce45e0356f08\n",
            "  Stored in directory: /root/.cache/pip/wheels/7e/18/13/038c34057808931c7ddc6c92d3aa015cf1a498df5a70268996\n",
            "Successfully built langdetect\n",
            "Installing collected packages: langdetect\n",
            "Successfully installed langdetect-1.0.9\n"
          ],
          "name": "stdout"
        }
      ]
    },
    {
      "cell_type": "markdown",
      "metadata": {
        "id": "eAuQH-QBBfhp"
      },
      "source": [
        "Streamlit Web app for transliteration"
      ]
    },
    {
      "cell_type": "code",
      "metadata": {
        "id": "Cdboye_m0hEp",
        "colab": {
          "base_uri": "https://localhost:8080/"
        },
        "outputId": "d7a31f20-e146-4e16-f0e7-06c0d159cc6a"
      },
      "source": [
        "!pip install streamlit --quiet\n",
        "!pip install pyngrok==4.1.1 --quiet\n",
        "!pip install streamlit-drawable-canvas --quiet\n",
        "from pyngrok import ngrok"
      ],
      "execution_count": 6,
      "outputs": [
        {
          "output_type": "stream",
          "text": [
            "\u001b[K     |████████████████████████████████| 7.8MB 26.9MB/s \n",
            "\u001b[K     |████████████████████████████████| 174kB 55.1MB/s \n",
            "\u001b[K     |████████████████████████████████| 112kB 44.2MB/s \n",
            "\u001b[K     |████████████████████████████████| 4.2MB 38.7MB/s \n",
            "\u001b[K     |████████████████████████████████| 81kB 9.5MB/s \n",
            "\u001b[K     |████████████████████████████████| 71kB 9.2MB/s \n",
            "\u001b[K     |████████████████████████████████| 122kB 62.2MB/s \n",
            "\u001b[?25h  Building wheel for blinker (setup.py) ... \u001b[?25l\u001b[?25hdone\n",
            "\u001b[31mERROR: google-colab 1.0.0 has requirement ipykernel~=4.10, but you'll have ipykernel 5.5.5 which is incompatible.\u001b[0m\n",
            "  Building wheel for pyngrok (setup.py) ... \u001b[?25l\u001b[?25hdone\n",
            "\u001b[K     |████████████████████████████████| 1.3MB 32.9MB/s \n",
            "\u001b[?25h"
          ],
          "name": "stdout"
        }
      ]
    },
    {
      "cell_type": "code",
      "metadata": {
        "colab": {
          "base_uri": "https://localhost:8080/"
        },
        "id": "J_DpdV6lAo4x",
        "outputId": "e0bdcb24-077b-4d8b-9dfe-9bf08d093777"
      },
      "source": [
        "%%writefile app.py\n",
        "import streamlit as st\n",
        "from indicnlp.transliterate.unicode_transliterate import UnicodeIndicTransliterator\n",
        "from langdetect import detect\n",
        "\n",
        "def detectLanguage(textip):\n",
        "  lang_code=detect(textip)\n",
        "  return lang_code\n",
        "\n",
        "codes={'Hindi':'hi','Punjabi':\"pa\",'Gujarathi':\"gu\",'Kannada':\"kn\",'Malayalam':\"ml\",'Nepali':'ne','Marathi':'mr','Bengali':'bn','Tamil':'ta',\n",
        "       \"Telugu\":\"te\",'Urdu':'ur'} \n",
        "\n",
        "\n",
        "st.title(\"TRANSLITERATOR FOR INDIAN LANGUAGES\")\n",
        "\n",
        "input_text=st.text_input(\"Enter some text here:\")\n",
        "\n",
        "choice=st.selectbox(\"Which Indian language would you like to transliterate your text to?\",\n",
        "                    ('Hindi','Punjabi','Gujarathi','Kannada','Malayalam','Nepali','Marathi','Bengali','Tamil','Telugu','Urdu'))\n",
        "\n",
        "if st.button(\"Transliterate\"):\n",
        "  #transliterate from Hindi to Kannada\n",
        "  st.write(UnicodeIndicTransliterator.transliterate(input_text,detectLanguage(input_text),codes[choice]))  "
      ],
      "execution_count": 29,
      "outputs": [
        {
          "output_type": "stream",
          "text": [
            "Overwriting app.py\n"
          ],
          "name": "stdout"
        }
      ]
    },
    {
      "cell_type": "code",
      "metadata": {
        "colab": {
          "base_uri": "https://localhost:8080/"
        },
        "id": "N88tUi6w1U9C",
        "outputId": "ac64d28d-a2ce-473f-b064-7fff576fb3aa"
      },
      "source": [
        "!nohup streamlit run app.py &\n",
        "url = ngrok.connect(port='8501')\n",
        "print(url)"
      ],
      "execution_count": 8,
      "outputs": [
        {
          "output_type": "stream",
          "text": [
            "nohup: appending output to 'nohup.out'\n",
            "http://25c3502d424b.ngrok.io\n"
          ],
          "name": "stdout"
        }
      ]
    }
  ]
}